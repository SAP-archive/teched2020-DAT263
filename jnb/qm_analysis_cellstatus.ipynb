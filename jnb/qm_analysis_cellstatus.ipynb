{
 "cells": [
  {
   "cell_type": "markdown",
   "metadata": {},
   "source": [
    "# Quality Analysis of Cell Data"
   ]
  },
  {
   "cell_type": "code",
   "execution_count": null,
   "metadata": {},
   "outputs": [],
   "source": [
    "!pip install hana_ml\n",
    "!pip install hdfs"
   ]
  },
  {
   "cell_type": "code",
   "execution_count": 2,
   "metadata": {},
   "outputs": [],
   "source": [
    "# Import of HANA Connections\n",
    "# Enables to create a pandas DataFrame out of HANA table selections\n",
    "# Details: https://help.sap.com/doc/1d0ebfe5e8dd44d09606814d83308d4b/2.0.04/en-US/hana_ml.html\n",
    "import hana_ml\n",
    "import hana_ml.dataframe as dataframe\n",
    "from notebook_hana_connector.notebook_hana_connector import NotebookConnectionContext\n",
    "import hdfs\n",
    "\n",
    "# Usual packages for data science\n",
    "import pandas as pd\n",
    "import matplotlib.pyplot as plt\n",
    "import matplotlib.dates as mdates"
   ]
  },
  {
   "cell_type": "markdown",
   "metadata": {},
   "source": [
    "## Connection to Data Source\n",
    " * Open the connection to the HANA DB using the credentials stored in the Connection Management.\n",
    " * Read the table into DataFrame df\n",
    " * Display the DataFrame"
   ]
  },
  {
   "cell_type": "code",
   "execution_count": null,
   "metadata": {},
   "outputs": [],
   "source": [
    "# FOR HANA ML\n",
    "conn = NotebookConnectionContext(connectionId = 'HANA_CLOUD_TECHED')\n",
    "df = conn.table('CELLSTATUS', schema='TECHED').collect()\n",
    "display(df)"
   ]
  },
  {
   "cell_type": "markdown",
   "metadata": {},
   "source": [
    "## Configuration Setting and Performance over Time\n",
    "\n",
    "Creating 2 charts for the values of \"KEY1\" and \"KEY2\" over time. Comparing measured performance values against configuration setting. "
   ]
  },
  {
   "cell_type": "code",
   "execution_count": null,
   "metadata": {},
   "outputs": [],
   "source": [
    "fig = plt.figure(figsize=(18, 5))\n",
    "ax1 = fig.add_subplot(1, 2,1)\n",
    "ax2 = fig.add_subplot(1, 2,2)\n",
    "\n",
    "fig.suptitle('CELLSTATUS',y = 0.99)\n",
    "\n",
    "ax1.plot(df['DATE'],df['NOM_KEY1'],color='red')\n",
    "ax1.plot(df['DATE'],df['KEY1'])\n",
    "ax1.legend(['Config Setting', 'Measurement'])\n",
    "ax1.xaxis.set_major_locator(mdates.MonthLocator())\n",
    "ax1.xaxis.set_major_formatter(mdates.DateFormatter('%B'))\n",
    "ax1.set_title('KEY1')\n",
    "\n",
    "\n",
    "ax2.plot(df['DATE'],df['NOM_KEY2'],color='red')\n",
    "ax2.plot(df['DATE'],df['KEY2'])\n",
    "ax2.legend(['Config Setting', 'Measurement'])\n",
    "ax2.xaxis.set_major_locator(mdates.MonthLocator())\n",
    "ax2.xaxis.set_major_formatter(mdates.DateFormatter('%B'))\n",
    "ax2.set_title('KEY2')"
   ]
  },
  {
   "cell_type": "markdown",
   "metadata": {},
   "source": [
    "## Histogram of KEY1 and KEY2\n",
    "Calculation the value distribution of the values of \"KEY1\" and \"KEY2\". "
   ]
  },
  {
   "cell_type": "code",
   "execution_count": null,
   "metadata": {},
   "outputs": [],
   "source": [
    "fig, ax = plt.subplots(figsize=(18, 5))\n",
    "ax.hist(df['KEY1'],50, facecolor='green', alpha=0.75)\n",
    "ax.hist(df['KEY2'],50, facecolor='blue', alpha=0.75)"
   ]
  },
  {
   "cell_type": "markdown",
   "metadata": {},
   "source": [
    "## Statistic Description\n",
    "Assumption of a normal distribution. 3-sigma-score: 99.73% should be within +-3*std from mean value. \n",
    "\n",
    "1. Calculate mean value and standard deviation\n",
    "2. Compute the number of values outside of the 3-sigma area compared to the expected outcome\n",
    "\n",
    "### KEY1 for all Cells"
   ]
  },
  {
   "cell_type": "code",
   "execution_count": null,
   "metadata": {},
   "outputs": [],
   "source": []
  },
  {
   "cell_type": "markdown",
   "metadata": {},
   "source": [
    "### KEY2 for all Cells"
   ]
  },
  {
   "cell_type": "code",
   "execution_count": null,
   "metadata": {},
   "outputs": [],
   "source": []
  },
  {
   "cell_type": "markdown",
   "metadata": {},
   "source": [
    "###  For Each Cell of KEY2\n",
    "Deviation of actual number of values outside of 3-sigma boundaries compared to the expected one for each cell. "
   ]
  },
  {
   "cell_type": "code",
   "execution_count": null,
   "metadata": {},
   "outputs": [],
   "source": []
  },
  {
   "cell_type": "markdown",
   "metadata": {},
   "source": [
    "### Detailed look on the outliers\n",
    "For cells where the expected values deviate check the time dependency. "
   ]
  },
  {
   "cell_type": "code",
   "execution_count": null,
   "metadata": {},
   "outputs": [],
   "source": []
  },
  {
   "cell_type": "markdown",
   "metadata": {},
   "source": [
    "## Access Data on DI Data Lake"
   ]
  },
  {
   "cell_type": "code",
   "execution_count": null,
   "metadata": {},
   "outputs": [],
   "source": []
  }
 ],
 "metadata": {
  "kernelspec": {
   "display_name": "Python 3",
   "language": "python",
   "name": "python3"
  },
  "language_info": {
   "codemirror_mode": {
    "name": "ipython",
    "version": 3
   },
   "file_extension": ".py",
   "mimetype": "text/x-python",
   "name": "python",
   "nbconvert_exporter": "python",
   "pygments_lexer": "ipython3",
   "version": "3.7.3"
  }
 },
 "nbformat": 4,
 "nbformat_minor": 2
}
