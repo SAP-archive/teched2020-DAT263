{
 "cells": [
  {
   "cell_type": "markdown",
   "metadata": {},
   "source": [
    "# Quality Analysis of Cell Data"
   ]
  },
  {
   "cell_type": "code",
   "execution_count": 6,
   "metadata": {},
   "outputs": [
    {
     "name": "stdout",
     "output_type": "stream",
     "text": [
      "Defaulting to user installation because normal site-packages is not writeable\n",
      "Requirement already satisfied: hana_ml in /Users/d051079/Library/Python/3.7/lib/python/site-packages (2.6.20101606)\n",
      "Requirement already satisfied: htmlmin>=0.1.12 in /Users/d051079/Library/Python/3.7/lib/python/site-packages (from hana_ml) (0.1.12)\n",
      "Requirement already satisfied: numpy>=1.16.4; python_version >= \"3.4\" in /Library/Python/3.7/site-packages (from hana_ml) (1.17.3)\n",
      "Requirement already satisfied: uuid in /Users/d051079/Library/Python/3.7/lib/python/site-packages (from hana_ml) (1.30)\n",
      "Requirement already satisfied: pandas>=0.24.2; python_version >= \"3.4\" in /Library/Python/3.7/site-packages (from hana_ml) (0.25.2)\n",
      "Requirement already satisfied: matplotlib; python_version >= \"3\" in /Users/d051079/Library/Python/3.7/lib/python/site-packages (from hana_ml) (3.2.1)\n",
      "Requirement already satisfied: tqdm>=4.43.0 in /Users/d051079/Library/Python/3.7/lib/python/site-packages (from hana_ml) (4.50.2)\n",
      "Requirement already satisfied: Deprecated in /Users/d051079/Library/Python/3.7/lib/python/site-packages (from hana_ml) (1.2.10)\n",
      "Requirement already satisfied: pydot in /Users/d051079/Library/Python/3.7/lib/python/site-packages (from hana_ml) (1.4.1)\n",
      "Requirement already satisfied: hdbcli>=2.4.194 in /Users/d051079/Library/Python/3.7/lib/python/site-packages (from hana_ml) (2.5.111)\n",
      "Requirement already satisfied: pytz>=2017.2 in /Library/Python/3.7/site-packages (from pandas>=0.24.2; python_version >= \"3.4\"->hana_ml) (2019.3)\n",
      "Requirement already satisfied: python-dateutil>=2.6.1 in /Library/Python/3.7/site-packages (from pandas>=0.24.2; python_version >= \"3.4\"->hana_ml) (2.8.0)\n",
      "Requirement already satisfied: pyparsing!=2.0.4,!=2.1.2,!=2.1.6,>=2.0.1 in /Users/d051079/Library/Python/3.7/lib/python/site-packages (from matplotlib; python_version >= \"3\"->hana_ml) (2.4.7)\n",
      "Requirement already satisfied: cycler>=0.10 in /Users/d051079/Library/Python/3.7/lib/python/site-packages (from matplotlib; python_version >= \"3\"->hana_ml) (0.10.0)\n",
      "Requirement already satisfied: kiwisolver>=1.0.1 in /Users/d051079/Library/Python/3.7/lib/python/site-packages (from matplotlib; python_version >= \"3\"->hana_ml) (1.2.0)\n",
      "Requirement already satisfied: wrapt<2,>=1.10 in /Users/d051079/Library/Python/3.7/lib/python/site-packages (from Deprecated->hana_ml) (1.12.1)\n",
      "Requirement already satisfied: six>=1.5 in /Users/d051079/Library/Python/3.7/lib/python/site-packages (from python-dateutil>=2.6.1->pandas>=0.24.2; python_version >= \"3.4\"->hana_ml) (1.13.0)\n",
      "\u001b[33mWARNING: You are using pip version 20.0.2; however, version 20.2.4 is available.\n",
      "You should consider upgrading via the '/Library/Developer/CommandLineTools/usr/bin/python3 -m pip install --upgrade pip' command.\u001b[0m\n",
      "Defaulting to user installation because normal site-packages is not writeable\n",
      "Collecting hdfs\n",
      "  Downloading hdfs-2.5.8.tar.gz (41 kB)\n",
      "\u001b[K     |████████████████████████████████| 41 kB 513 kB/s eta 0:00:01\n",
      "\u001b[?25hCollecting docopt\n",
      "  Downloading docopt-0.6.2.tar.gz (25 kB)\n",
      "Requirement already satisfied: requests>=2.7.0 in /Users/d051079/Library/Python/3.7/lib/python/site-packages (from hdfs) (2.22.0)\n",
      "Requirement already satisfied: six>=1.9.0 in /Users/d051079/Library/Python/3.7/lib/python/site-packages (from hdfs) (1.13.0)\n",
      "Requirement already satisfied: chardet<3.1.0,>=3.0.2 in /Users/d051079/Library/Python/3.7/lib/python/site-packages (from requests>=2.7.0->hdfs) (3.0.4)\n",
      "Requirement already satisfied: certifi>=2017.4.17 in /Users/d051079/Library/Python/3.7/lib/python/site-packages (from requests>=2.7.0->hdfs) (2019.9.11)\n",
      "Requirement already satisfied: urllib3!=1.25.0,!=1.25.1,<1.26,>=1.21.1 in /Users/d051079/Library/Python/3.7/lib/python/site-packages (from requests>=2.7.0->hdfs) (1.25.6)\n",
      "Requirement already satisfied: idna<2.9,>=2.5 in /Users/d051079/Library/Python/3.7/lib/python/site-packages (from requests>=2.7.0->hdfs) (2.8)\n",
      "Building wheels for collected packages: hdfs, docopt\n",
      "  Building wheel for hdfs (setup.py) ... \u001b[?25ldone\n",
      "\u001b[?25h  Created wheel for hdfs: filename=hdfs-2.5.8-py3-none-any.whl size=33213 sha256=6ba8f85a50d5098d957d20e9501d9dea0a4e776185a5e4775b2248dc196e5e52\n",
      "  Stored in directory: /Users/d051079/Library/Caches/pip/wheels/0a/7d/38/ea4eaf831518e6cd867b515b88919a9785eb66f11def5ab859\n",
      "  Building wheel for docopt (setup.py) ... \u001b[?25ldone\n",
      "\u001b[?25h  Created wheel for docopt: filename=docopt-0.6.2-py2.py3-none-any.whl size=13704 sha256=c3f96baa0a6d86caede8f3cb33e2888796026bb65f7fbf804506dd79e0912d14\n",
      "  Stored in directory: /Users/d051079/Library/Caches/pip/wheels/72/b0/3f/1d95f96ff986c7dfffe46ce2be4062f38ebd04b506c77c81b9\n",
      "Successfully built hdfs docopt\n",
      "Installing collected packages: docopt, hdfs\n",
      "Successfully installed docopt-0.6.2 hdfs-2.5.8\n",
      "\u001b[33mWARNING: You are using pip version 20.0.2; however, version 20.2.4 is available.\n",
      "You should consider upgrading via the '/Library/Developer/CommandLineTools/usr/bin/python3 -m pip install --upgrade pip' command.\u001b[0m\n"
     ]
    }
   ],
   "source": [
    "!pip install hana_ml\n",
    "!pip install hdfs"
   ]
  },
  {
   "cell_type": "code",
   "execution_count": 7,
   "metadata": {},
   "outputs": [],
   "source": [
    "import hana_ml\n",
    "import hana_ml.dataframe as dataframe\n",
    "from notebook_hana_connector.notebook_hana_connector import NotebookConnectionContext\n",
    "import hdfs\n",
    "\n",
    "import pandas as pd\n",
    "import matplotlib.pyplot as plt"
   ]
  },
  {
   "cell_type": "markdown",
   "metadata": {},
   "source": [
    "## Connection to Data Source"
   ]
  },
  {
   "cell_type": "code",
   "execution_count": 8,
   "metadata": {},
   "outputs": [
    {
     "data": {
      "text/html": [
       "<div>\n",
       "<style scoped>\n",
       "    .dataframe tbody tr th:only-of-type {\n",
       "        vertical-align: middle;\n",
       "    }\n",
       "\n",
       "    .dataframe tbody tr th {\n",
       "        vertical-align: top;\n",
       "    }\n",
       "\n",
       "    .dataframe thead th {\n",
       "        text-align: right;\n",
       "    }\n",
       "</style>\n",
       "<table border=\"1\" class=\"dataframe\">\n",
       "  <thead>\n",
       "    <tr style=\"text-align: right;\">\n",
       "      <th></th>\n",
       "      <th>DATE</th>\n",
       "      <th>CELLID</th>\n",
       "      <th>KEY1</th>\n",
       "      <th>KEY2</th>\n",
       "      <th>NOM_KEY1</th>\n",
       "      <th>NOM_KEY2</th>\n",
       "    </tr>\n",
       "  </thead>\n",
       "  <tbody>\n",
       "    <tr>\n",
       "      <th>0</th>\n",
       "      <td>2020-11-01</td>\n",
       "      <td>1234512</td>\n",
       "      <td>98.964450</td>\n",
       "      <td>131.70491</td>\n",
       "      <td>74.4</td>\n",
       "      <td>147.4</td>\n",
       "    </tr>\n",
       "    <tr>\n",
       "      <th>1</th>\n",
       "      <td>2020-11-01</td>\n",
       "      <td>1345331</td>\n",
       "      <td>76.107155</td>\n",
       "      <td>203.95079</td>\n",
       "      <td>114.1</td>\n",
       "      <td>238.2</td>\n",
       "    </tr>\n",
       "    <tr>\n",
       "      <th>2</th>\n",
       "      <td>2020-11-01</td>\n",
       "      <td>4139991</td>\n",
       "      <td>123.091020</td>\n",
       "      <td>264.46765</td>\n",
       "      <td>102.1</td>\n",
       "      <td>122.6</td>\n",
       "    </tr>\n",
       "    <tr>\n",
       "      <th>3</th>\n",
       "      <td>2020-11-01</td>\n",
       "      <td>4543213</td>\n",
       "      <td>102.011925</td>\n",
       "      <td>125.23777</td>\n",
       "      <td>92.5</td>\n",
       "      <td>199.1</td>\n",
       "    </tr>\n",
       "    <tr>\n",
       "      <th>4</th>\n",
       "      <td>2020-11-01</td>\n",
       "      <td>7148927</td>\n",
       "      <td>104.337550</td>\n",
       "      <td>188.75677</td>\n",
       "      <td>109.5</td>\n",
       "      <td>192.4</td>\n",
       "    </tr>\n",
       "    <tr>\n",
       "      <th>...</th>\n",
       "      <td>...</td>\n",
       "      <td>...</td>\n",
       "      <td>...</td>\n",
       "      <td>...</td>\n",
       "      <td>...</td>\n",
       "      <td>...</td>\n",
       "    </tr>\n",
       "    <tr>\n",
       "      <th>175</th>\n",
       "      <td>2020-11-30</td>\n",
       "      <td>1345331</td>\n",
       "      <td>116.109810</td>\n",
       "      <td>0.00000</td>\n",
       "      <td>91.3</td>\n",
       "      <td>165.0</td>\n",
       "    </tr>\n",
       "    <tr>\n",
       "      <th>176</th>\n",
       "      <td>2020-11-30</td>\n",
       "      <td>4139991</td>\n",
       "      <td>132.113330</td>\n",
       "      <td>209.94498</td>\n",
       "      <td>85.3</td>\n",
       "      <td>156.7</td>\n",
       "    </tr>\n",
       "    <tr>\n",
       "      <th>177</th>\n",
       "      <td>2020-11-30</td>\n",
       "      <td>4543213</td>\n",
       "      <td>122.740650</td>\n",
       "      <td>203.76453</td>\n",
       "      <td>37.4</td>\n",
       "      <td>70.0</td>\n",
       "    </tr>\n",
       "    <tr>\n",
       "      <th>178</th>\n",
       "      <td>2020-11-30</td>\n",
       "      <td>7148927</td>\n",
       "      <td>86.377700</td>\n",
       "      <td>245.37593</td>\n",
       "      <td>115.9</td>\n",
       "      <td>203.4</td>\n",
       "    </tr>\n",
       "    <tr>\n",
       "      <th>179</th>\n",
       "      <td>2020-11-30</td>\n",
       "      <td>9874382</td>\n",
       "      <td>101.219734</td>\n",
       "      <td>130.38339</td>\n",
       "      <td>97.5</td>\n",
       "      <td>268.9</td>\n",
       "    </tr>\n",
       "  </tbody>\n",
       "</table>\n",
       "<p>180 rows × 6 columns</p>\n",
       "</div>"
      ],
      "text/plain": [
       "           DATE   CELLID        KEY1       KEY2  NOM_KEY1  NOM_KEY2\n",
       "0    2020-11-01  1234512   98.964450  131.70491      74.4     147.4\n",
       "1    2020-11-01  1345331   76.107155  203.95079     114.1     238.2\n",
       "2    2020-11-01  4139991  123.091020  264.46765     102.1     122.6\n",
       "3    2020-11-01  4543213  102.011925  125.23777      92.5     199.1\n",
       "4    2020-11-01  7148927  104.337550  188.75677     109.5     192.4\n",
       "..          ...      ...         ...        ...       ...       ...\n",
       "175  2020-11-30  1345331  116.109810    0.00000      91.3     165.0\n",
       "176  2020-11-30  4139991  132.113330  209.94498      85.3     156.7\n",
       "177  2020-11-30  4543213  122.740650  203.76453      37.4      70.0\n",
       "178  2020-11-30  7148927   86.377700  245.37593     115.9     203.4\n",
       "179  2020-11-30  9874382  101.219734  130.38339      97.5     268.9\n",
       "\n",
       "[180 rows x 6 columns]"
      ]
     },
     "metadata": {},
     "output_type": "display_data"
    }
   ],
   "source": [
    "#FOR HANA ML\n",
    "conn = NotebookConnectionContext(connectionId = 'HANA_CLOUD_TECHED')\n",
    "df = conn.table('CELLSTATUS', schema='TECHED').collect()\n",
    "\n",
    "display(df)"
   ]
  },
  {
   "cell_type": "markdown",
   "metadata": {},
   "source": [
    "## Configuration Setting and Performance over Time"
   ]
  },
  {
   "cell_type": "code",
   "execution_count": 9,
   "metadata": {},
   "outputs": [
    {
     "data": {
      "text/plain": [
       "[Text(209.74318181818177, 0.5, 'KEY2'), Text(0.5, 15.0, 'DATE')]"
      ]
     },
     "execution_count": 9,
     "metadata": {},
     "output_type": "execute_result"
    },
    {
     "data": {
      "image/png": "[encoded data removed]",
      "text/plain": [
       "<Figure size 432x288 with 2 Axes>"
      ]
     },
     "metadata": {
      "needs_background": "light"
     },
     "output_type": "display_data"
    }
   ],
   "source": [
    "fig, (ax1, ax2) = plt.subplots(1, 2)\n",
    "fig.tight_layout()\n",
    "fig.suptitle('CELLSTATUS')\n",
    "ax1.plot(df['DATE'],df['KEY1'])\n",
    "ax1.plot(df['DATE'],df['NOM_KEY1'],color='red')\n",
    "ax1.set(xlabel='DATE', ylabel='KEY1')\n",
    "ax2.plot(df['DATE'],df['KEY2'])\n",
    "ax2.plot(df['DATE'],df['NOM_KEY2'],color='red')\n",
    "ax2.set(xlabel='DATE', ylabel='KEY2')"
   ]
  },
  {
   "cell_type": "markdown",
   "metadata": {},
   "source": [
    "## Histogram of KEY1 and KEY2"
   ]
  },
  {
   "cell_type": "code",
   "execution_count": 10,
   "metadata": {},
   "outputs": [
    {
     "data": {
      "text/plain": [
       "(array([ 1.,  0.,  0.,  0.,  2.,  0.,  0.,  0.,  0.,  0.,  0.,  0.,  0.,\n",
       "         1.,  0.,  0.,  0.,  2.,  0.,  2.,  2.,  2.,  2.,  5.,  3.,  4.,\n",
       "         5.,  6., 10., 10.,  8.,  4.,  8.,  6.,  9.,  5., 12.,  7.,  9.,\n",
       "         9., 11.,  3.,  7.,  6.,  5.,  6.,  2.,  1.,  2.,  3.]),\n",
       " array([-30.623226  , -23.90456268, -17.18589936, -10.46723604,\n",
       "         -3.74857272,   2.9700906 ,   9.68875392,  16.40741724,\n",
       "         23.12608056,  29.84474388,  36.5634072 ,  43.28207052,\n",
       "         50.00073384,  56.71939716,  63.43806048,  70.1567238 ,\n",
       "         76.87538712,  83.59405044,  90.31271376,  97.03137708,\n",
       "        103.7500404 , 110.46870372, 117.18736704, 123.90603036,\n",
       "        130.62469368, 137.343357  , 144.06202032, 150.78068364,\n",
       "        157.49934696, 164.21801028, 170.9366736 , 177.65533692,\n",
       "        184.37400024, 191.09266356, 197.81132688, 204.5299902 ,\n",
       "        211.24865352, 217.96731684, 224.68598016, 231.40464348,\n",
       "        238.1233068 , 244.84197012, 251.56063344, 258.27929676,\n",
       "        264.99796008, 271.7166234 , 278.43528672, 285.15395004,\n",
       "        291.87261336, 298.59127668, 305.30994   ]),\n",
       " <a list of 50 Patch objects>)"
      ]
     },
     "execution_count": 10,
     "metadata": {},
     "output_type": "execute_result"
    },
    {
     "data": {
      "image/png": "[encoded data removed]",
      "text/plain": [
       "<Figure size 432x288 with 1 Axes>"
      ]
     },
     "metadata": {
      "needs_background": "light"
     },
     "output_type": "display_data"
    }
   ],
   "source": [
    "plt.hist(df['KEY1'],50, facecolor='green', alpha=0.75)\n",
    "plt.hist(df['KEY2'],50, facecolor='darkblue', alpha=0.75)"
   ]
  },
  {
   "cell_type": "markdown",
   "metadata": {},
   "source": [
    "## Statistic Description"
   ]
  },
  {
   "cell_type": "code",
   "execution_count": 11,
   "metadata": {},
   "outputs": [
    {
     "name": "stdout",
     "output_type": "stream",
     "text": [
      "KEY1 mean: 104.22986389444446   std: 29.68762631165119\n",
      "Z3-score: 1  (0.48600000000000004)\n",
      "KEY2 mean: 197.97795743888886   std: 56.641270592616465\n",
      "Z3-score: 3  (0.48600000000000004)\n"
     ]
    }
   ],
   "source": [
    "mean = df['KEY1'].mean()\n",
    "std = df['KEY1'].std()\n",
    "print('KEY1 mean: {}   std: {}'.format(mean,std))\n",
    "exl_z3 = df.loc[ (df.KEY1 < mean - 3*std) | (df.KEY1 > mean + 3*std),'KEY1'].count() \n",
    "print('Z3-score: {}  ({})'.format(exl_z3,0.0027*df.shape[0]) )\n",
    "\n",
    "mean = df['KEY2'].mean()\n",
    "std = df['KEY2'].std()\n",
    "print('KEY2 mean: {}   std: {}'.format(mean,std))\n",
    "exl_z3 = df.loc[ (df.KEY2 < mean - 3*std) | (df.KEY2 > mean + 3*std),'KEY2'].count() \n",
    "print('Z3-score: {}  ({})'.format(exl_z3,0.0027*df.shape[0]) )"
   ]
  },
  {
   "cell_type": "code",
   "execution_count": null,
   "metadata": {},
   "outputs": [],
   "source": []
  }
 ],
 "metadata": {
  "kernelspec": {
   "display_name": "Python 3",
   "language": "python",
   "name": "python3"
  },
  "language_info": {
   "codemirror_mode": {
    "name": "ipython",
    "version": 3
   },
   "file_extension": ".py",
   "mimetype": "text/x-python",
   "name": "python",
   "nbconvert_exporter": "python",
   "pygments_lexer": "ipython3",
   "version": "3.7.3"
  }
 },
 "nbformat": 4,
 "nbformat_minor": 2
}
