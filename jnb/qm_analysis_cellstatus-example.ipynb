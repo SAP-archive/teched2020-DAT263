{
 "cells": [
  {
   "cell_type": "markdown",
   "metadata": {},
   "source": [
    "# Quality Analysis of Cell Data"
   ]
  },
  {
   "cell_type": "code",
   "execution_count": 1,
   "metadata": {},
   "outputs": [
    {
     "name": "stdout",
     "output_type": "stream",
     "text": [
      "Defaulting to user installation because normal site-packages is not writeable\n",
      "Requirement already satisfied: hana_ml in /Users/d051079/Library/Python/3.7/lib/python/site-packages (2.6.20101606)\n",
      "Requirement already satisfied: hdbcli>=2.4.194 in /Users/d051079/Library/Python/3.7/lib/python/site-packages (from hana_ml) (2.5.111)\n",
      "Requirement already satisfied: pandas>=0.24.2; python_version >= \"3.4\" in /Library/Python/3.7/site-packages (from hana_ml) (0.25.2)\n",
      "Requirement already satisfied: uuid in /Users/d051079/Library/Python/3.7/lib/python/site-packages (from hana_ml) (1.30)\n",
      "Requirement already satisfied: numpy>=1.16.4; python_version >= \"3.4\" in /Library/Python/3.7/site-packages (from hana_ml) (1.17.3)\n",
      "Requirement already satisfied: matplotlib; python_version >= \"3\" in /Users/d051079/Library/Python/3.7/lib/python/site-packages (from hana_ml) (3.2.1)\n",
      "Requirement already satisfied: pydot in /Users/d051079/Library/Python/3.7/lib/python/site-packages (from hana_ml) (1.4.1)\n",
      "Requirement already satisfied: tqdm>=4.43.0 in /Users/d051079/Library/Python/3.7/lib/python/site-packages (from hana_ml) (4.50.2)\n",
      "Requirement already satisfied: Deprecated in /Users/d051079/Library/Python/3.7/lib/python/site-packages (from hana_ml) (1.2.10)\n",
      "Requirement already satisfied: htmlmin>=0.1.12 in /Users/d051079/Library/Python/3.7/lib/python/site-packages (from hana_ml) (0.1.12)\n",
      "Requirement already satisfied: pytz>=2017.2 in /Library/Python/3.7/site-packages (from pandas>=0.24.2; python_version >= \"3.4\"->hana_ml) (2019.3)\n",
      "Requirement already satisfied: python-dateutil>=2.6.1 in /Library/Python/3.7/site-packages (from pandas>=0.24.2; python_version >= \"3.4\"->hana_ml) (2.8.0)\n",
      "Requirement already satisfied: kiwisolver>=1.0.1 in /Users/d051079/Library/Python/3.7/lib/python/site-packages (from matplotlib; python_version >= \"3\"->hana_ml) (1.2.0)\n",
      "Requirement already satisfied: pyparsing!=2.0.4,!=2.1.2,!=2.1.6,>=2.0.1 in /Users/d051079/Library/Python/3.7/lib/python/site-packages (from matplotlib; python_version >= \"3\"->hana_ml) (2.4.7)\n",
      "Requirement already satisfied: cycler>=0.10 in /Users/d051079/Library/Python/3.7/lib/python/site-packages (from matplotlib; python_version >= \"3\"->hana_ml) (0.10.0)\n",
      "Requirement already satisfied: wrapt<2,>=1.10 in /Users/d051079/Library/Python/3.7/lib/python/site-packages (from Deprecated->hana_ml) (1.12.1)\n",
      "Requirement already satisfied: six>=1.5 in /Users/d051079/Library/Python/3.7/lib/python/site-packages (from python-dateutil>=2.6.1->pandas>=0.24.2; python_version >= \"3.4\"->hana_ml) (1.13.0)\n",
      "Defaulting to user installation because normal site-packages is not writeable\n",
      "Requirement already satisfied: hdfs in /Users/d051079/Library/Python/3.7/lib/python/site-packages (2.5.8)\n",
      "Requirement already satisfied: six>=1.9.0 in /Users/d051079/Library/Python/3.7/lib/python/site-packages (from hdfs) (1.13.0)\n",
      "Requirement already satisfied: requests>=2.7.0 in /Users/d051079/Library/Python/3.7/lib/python/site-packages (from hdfs) (2.22.0)\n",
      "Requirement already satisfied: docopt in /Users/d051079/Library/Python/3.7/lib/python/site-packages (from hdfs) (0.6.2)\n",
      "Requirement already satisfied: idna<2.9,>=2.5 in /Users/d051079/Library/Python/3.7/lib/python/site-packages (from requests>=2.7.0->hdfs) (2.8)\n",
      "Requirement already satisfied: certifi>=2017.4.17 in /Users/d051079/Library/Python/3.7/lib/python/site-packages (from requests>=2.7.0->hdfs) (2019.9.11)\n",
      "Requirement already satisfied: urllib3!=1.25.0,!=1.25.1,<1.26,>=1.21.1 in /Users/d051079/Library/Python/3.7/lib/python/site-packages (from requests>=2.7.0->hdfs) (1.25.6)\n",
      "Requirement already satisfied: chardet<3.1.0,>=3.0.2 in /Users/d051079/Library/Python/3.7/lib/python/site-packages (from requests>=2.7.0->hdfs) (3.0.4)\n"
     ]
    }
   ],
   "source": [
    "!pip install hana_ml\n",
    "!pip install hdfs"
   ]
  },
  {
   "cell_type": "code",
   "execution_count": 2,
   "metadata": {},
   "outputs": [],
   "source": [
    "# Import of HANA Connections\n",
    "# Enables to create a pandas DataFrame out of HANA table selections\n",
    "# Details: https://help.sap.com/doc/1d0ebfe5e8dd44d09606814d83308d4b/2.0.04/en-US/hana_ml.html\n",
    "#import hana_ml\n",
    "#import hana_ml.dataframe as dataframe\n",
    "#from notebook_hana_connector.notebook_hana_connector import NotebookConnectionContext\n",
    "#import hdfs\n",
    "\n",
    "# Usual packages for data science\n",
    "import pandas as pd\n",
    "import matplotlib.pyplot as plt\n",
    "import matplotlib.dates as mdates"
   ]
  },
  {
   "cell_type": "markdown",
   "metadata": {},
   "source": [
    "## Connection to Data Source\n",
    " * Open the connection to the HANA DB using the credentials stored in the Connection Management.\n",
    " * Read the table into DataFrame df\n",
    " * Display the DataFrame"
   ]
  },
  {
   "cell_type": "code",
   "execution_count": 3,
   "metadata": {},
   "outputs": [
    {
     "data": {
      "text/html": [
       "<div>\n",
       "<style scoped>\n",
       "    .dataframe tbody tr th:only-of-type {\n",
       "        vertical-align: middle;\n",
       "    }\n",
       "\n",
       "    .dataframe tbody tr th {\n",
       "        vertical-align: top;\n",
       "    }\n",
       "\n",
       "    .dataframe thead th {\n",
       "        text-align: right;\n",
       "    }\n",
       "</style>\n",
       "<table border=\"1\" class=\"dataframe\">\n",
       "  <thead>\n",
       "    <tr style=\"text-align: right;\">\n",
       "      <th></th>\n",
       "      <th>DATE</th>\n",
       "      <th>CELLID</th>\n",
       "      <th>NOM_KEY1</th>\n",
       "      <th>KEY1</th>\n",
       "      <th>NOM_KEY2</th>\n",
       "      <th>KEY2</th>\n",
       "    </tr>\n",
       "  </thead>\n",
       "  <tbody>\n",
       "    <tr>\n",
       "      <th>0</th>\n",
       "      <td>2020-10-01</td>\n",
       "      <td>1234512</td>\n",
       "      <td>93.5</td>\n",
       "      <td>93.346178</td>\n",
       "      <td>193.0</td>\n",
       "      <td>195.586165</td>\n",
       "    </tr>\n",
       "    <tr>\n",
       "      <th>1</th>\n",
       "      <td>2020-10-01</td>\n",
       "      <td>1345331</td>\n",
       "      <td>96.2</td>\n",
       "      <td>94.598702</td>\n",
       "      <td>209.4</td>\n",
       "      <td>202.841288</td>\n",
       "    </tr>\n",
       "    <tr>\n",
       "      <th>2</th>\n",
       "      <td>2020-10-01</td>\n",
       "      <td>4139991</td>\n",
       "      <td>109.6</td>\n",
       "      <td>109.940660</td>\n",
       "      <td>159.5</td>\n",
       "      <td>167.919984</td>\n",
       "    </tr>\n",
       "    <tr>\n",
       "      <th>3</th>\n",
       "      <td>2020-10-01</td>\n",
       "      <td>4543213</td>\n",
       "      <td>77.8</td>\n",
       "      <td>76.139900</td>\n",
       "      <td>213.4</td>\n",
       "      <td>211.240157</td>\n",
       "    </tr>\n",
       "    <tr>\n",
       "      <th>4</th>\n",
       "      <td>2020-10-01</td>\n",
       "      <td>7148927</td>\n",
       "      <td>128.6</td>\n",
       "      <td>130.255389</td>\n",
       "      <td>182.2</td>\n",
       "      <td>188.854179</td>\n",
       "    </tr>\n",
       "    <tr>\n",
       "      <th>...</th>\n",
       "      <td>...</td>\n",
       "      <td>...</td>\n",
       "      <td>...</td>\n",
       "      <td>...</td>\n",
       "      <td>...</td>\n",
       "      <td>...</td>\n",
       "    </tr>\n",
       "    <tr>\n",
       "      <th>361</th>\n",
       "      <td>2020-11-30</td>\n",
       "      <td>1345331</td>\n",
       "      <td>87.9</td>\n",
       "      <td>89.773541</td>\n",
       "      <td>221.8</td>\n",
       "      <td>294.178045</td>\n",
       "    </tr>\n",
       "    <tr>\n",
       "      <th>362</th>\n",
       "      <td>2020-11-30</td>\n",
       "      <td>4139991</td>\n",
       "      <td>101.0</td>\n",
       "      <td>97.948879</td>\n",
       "      <td>211.5</td>\n",
       "      <td>221.972107</td>\n",
       "    </tr>\n",
       "    <tr>\n",
       "      <th>363</th>\n",
       "      <td>2020-11-30</td>\n",
       "      <td>4543213</td>\n",
       "      <td>77.4</td>\n",
       "      <td>78.897707</td>\n",
       "      <td>235.9</td>\n",
       "      <td>227.397748</td>\n",
       "    </tr>\n",
       "    <tr>\n",
       "      <th>364</th>\n",
       "      <td>2020-11-30</td>\n",
       "      <td>7148927</td>\n",
       "      <td>103.2</td>\n",
       "      <td>101.149750</td>\n",
       "      <td>203.2</td>\n",
       "      <td>203.520831</td>\n",
       "    </tr>\n",
       "    <tr>\n",
       "      <th>365</th>\n",
       "      <td>2020-11-30</td>\n",
       "      <td>9874382</td>\n",
       "      <td>81.7</td>\n",
       "      <td>82.165402</td>\n",
       "      <td>217.2</td>\n",
       "      <td>218.953603</td>\n",
       "    </tr>\n",
       "  </tbody>\n",
       "</table>\n",
       "<p>366 rows × 6 columns</p>\n",
       "</div>"
      ],
      "text/plain": [
       "           DATE   CELLID  NOM_KEY1        KEY1  NOM_KEY2        KEY2\n",
       "0    2020-10-01  1234512      93.5   93.346178     193.0  195.586165\n",
       "1    2020-10-01  1345331      96.2   94.598702     209.4  202.841288\n",
       "2    2020-10-01  4139991     109.6  109.940660     159.5  167.919984\n",
       "3    2020-10-01  4543213      77.8   76.139900     213.4  211.240157\n",
       "4    2020-10-01  7148927     128.6  130.255389     182.2  188.854179\n",
       "..          ...      ...       ...         ...       ...         ...\n",
       "361  2020-11-30  1345331      87.9   89.773541     221.8  294.178045\n",
       "362  2020-11-30  4139991     101.0   97.948879     211.5  221.972107\n",
       "363  2020-11-30  4543213      77.4   78.897707     235.9  227.397748\n",
       "364  2020-11-30  7148927     103.2  101.149750     203.2  203.520831\n",
       "365  2020-11-30  9874382      81.7   82.165402     217.2  218.953603\n",
       "\n",
       "[366 rows x 6 columns]"
      ]
     },
     "metadata": {},
     "output_type": "display_data"
    }
   ],
   "source": [
    "#FOR HANA ML\n",
    "#conn = NotebookConnectionContext(connectionId = 'HANA_CLOUD_TECHED')\n",
    "#df = conn.table('CELLSTATUS', schema='TECHED').collect()\n",
    "df = pd.read_csv(\"/Users/Shared/data/IoTquality/cellstatus.csv\")\n",
    "display(df)"
   ]
  },
  {
   "cell_type": "markdown",
   "metadata": {},
   "source": [
    "## Configuration Setting and Performance over Time\n",
    "\n",
    "Creating 2 charts for the values of \"KEY1\" and \"KEY2\" over time. Comparing measured performance values against configuration setting. "
   ]
  },
  {
   "cell_type": "code",
   "execution_count": 4,
   "metadata": {},
   "outputs": [
    {
     "data": {
      "text/plain": [
       "Text(0.5, 1.0, 'KEY2')"
      ]
     },
     "execution_count": 4,
     "metadata": {},
     "output_type": "execute_result"
    },
    {
     "data": {
      "image/png": "[encoded data removed]",
      "text/plain": [
       "<Figure size 1296x360 with 2 Axes>"
      ]
     },
     "metadata": {
      "needs_background": "light"
     },
     "output_type": "display_data"
    }
   ],
   "source": [
    "fig = plt.figure(figsize=(18, 5))\n",
    "ax1 = fig.add_subplot(1, 2,1)\n",
    "ax2 = fig.add_subplot(1, 2,2)\n",
    "\n",
    "fig.suptitle('CELLSTATUS',y = 0.99)\n",
    "\n",
    "ax1.plot(df['DATE'],df['NOM_KEY1'],color='red')\n",
    "ax1.plot(df['DATE'],df['KEY1'])\n",
    "ax1.legend(['Config Setting', 'Measurement'])\n",
    "ax1.xaxis.set_major_locator(mdates.MonthLocator())\n",
    "ax1.xaxis.set_major_formatter(mdates.DateFormatter('%B'))\n",
    "ax1.set_title('KEY1')\n",
    "\n",
    "\n",
    "ax2.plot(df['DATE'],df['NOM_KEY2'],color='red')\n",
    "ax2.plot(df['DATE'],df['KEY2'])\n",
    "ax2.legend(['Config Setting', 'Measurement'])\n",
    "ax2.xaxis.set_major_locator(mdates.MonthLocator())\n",
    "ax2.xaxis.set_major_formatter(mdates.DateFormatter('%B'))\n",
    "ax2.set_title('KEY2')"
   ]
  },
  {
   "cell_type": "markdown",
   "metadata": {},
   "source": [
    "## Histogram of KEY1 and KEY2\n",
    "Calculation the value distribution of the values of \"KEY1\" and \"KEY2\". "
   ]
  },
  {
   "cell_type": "code",
   "execution_count": 5,
   "metadata": {},
   "outputs": [
    {
     "data": {
      "text/plain": [
       "(array([ 1.,  0.,  2.,  1.,  0.,  5.,  7., 11., 10., 16., 20., 19., 25.,\n",
       "        27., 18., 20., 29., 19., 24., 29., 19.,  9., 15., 11.,  5.,  9.,\n",
       "         4.,  1.,  3.,  0.,  1.,  2.,  0.,  0.,  1.,  0.,  1.,  0.,  0.,\n",
       "         0.,  0.,  1.,  0.,  0.,  0.,  0.,  0.,  0.,  0.,  1.]),\n",
       " array([144.78296385, 148.39475572, 152.00654759, 155.61833947,\n",
       "        159.23013134, 162.84192322, 166.45371509, 170.06550697,\n",
       "        173.67729884, 177.28909072, 180.90088259, 184.51267447,\n",
       "        188.12446634, 191.73625822, 195.34805009, 198.95984197,\n",
       "        202.57163384, 206.18342571, 209.79521759, 213.40700946,\n",
       "        217.01880134, 220.63059321, 224.24238509, 227.85417696,\n",
       "        231.46596884, 235.07776071, 238.68955259, 242.30134446,\n",
       "        245.91313634, 249.52492821, 253.13672009, 256.74851196,\n",
       "        260.36030384, 263.97209571, 267.58388758, 271.19567946,\n",
       "        274.80747133, 278.41926321, 282.03105508, 285.64284696,\n",
       "        289.25463883, 292.86643071, 296.47822258, 300.09001446,\n",
       "        303.70180633, 307.31359821, 310.92539008, 314.53718196,\n",
       "        318.14897383, 321.76076571, 325.37255758]),\n",
       " <a list of 50 Patch objects>)"
      ]
     },
     "execution_count": 5,
     "metadata": {},
     "output_type": "execute_result"
    },
    {
     "data": {
      "image/png": "[encoded data removed]",
      "text/plain": [
       "<Figure size 1296x360 with 1 Axes>"
      ]
     },
     "metadata": {
      "needs_background": "light"
     },
     "output_type": "display_data"
    }
   ],
   "source": [
    "fig, ax = plt.subplots(figsize=(18, 5))\n",
    "ax.hist(df['KEY1'],50, facecolor='green', alpha=0.75)\n",
    "ax.hist(df['KEY2'],50, facecolor='blue', alpha=0.75)"
   ]
  },
  {
   "cell_type": "markdown",
   "metadata": {},
   "source": [
    "## Statistic Description\n",
    "Assumption of a normal distribution. 3-sigma-score: 99.73% should be within +-3*std from mean value. \n",
    "\n",
    "1. Calculate mean value and standard deviation\n",
    "2. Compute the number of values outside of the 3-sigma area compared to the expected outcome\n",
    "\n",
    "### KEY1 for all Cells"
   ]
  },
  {
   "cell_type": "code",
   "execution_count": 6,
   "metadata": {},
   "outputs": [
    {
     "name": "stdout",
     "output_type": "stream",
     "text": [
      "Statistics:\n",
      "\tav: 99.97261662172998\n",
      "\tsd: 10.399944708434907\n",
      "Z3-score: \n",
      "\tactual #values: 2\n",
      "\ttarget #values: 1\n"
     ]
    }
   ],
   "source": [
    "# KEY1 for all Cells\n",
    "mean = df['KEY1'].mean()\n",
    "std = df['KEY1'].std()\n",
    "print('Statistics:\\n\\tav: {}\\n\\tsd: {}'.format(mean,std))\n",
    "exl_3s = df.loc[ (df.KEY1 < mean - 3*std) | (df.KEY1 > mean + 3*std),'KEY1'].count() \n",
    "print('Z3-score: \\n\\tactual #values: {}\\n\\ttarget #values: {}'.format(exl_3s,round(0.0027*df.shape[0])))"
   ]
  },
  {
   "cell_type": "markdown",
   "metadata": {},
   "source": [
    "### KEY2 for all Cells"
   ]
  },
  {
   "cell_type": "code",
   "execution_count": 7,
   "metadata": {},
   "outputs": [
    {
     "name": "stdout",
     "output_type": "stream",
     "text": [
      "Statistics:\n",
      "\tav: 203.1019348594501\n",
      "\tsd: 21.889452721885455\n",
      "Z3-score: \n",
      "\tactual #values: 4\n",
      "\ttarget #values: 1\n"
     ]
    }
   ],
   "source": [
    "mean2 = df['KEY2'].mean()\n",
    "std2 = df['KEY2'].std()\n",
    "print('Statistics:\\n\\tav: {}\\n\\tsd: {}'.format(mean2,std2))\n",
    "exl_3s = df.loc[ (df.KEY2 < mean2 - 3*std2) | (df.KEY2 > mean2 + 3*std2),'KEY2'].count() \n",
    "print('Z3-score: \\n\\tactual #values: {}\\n\\ttarget #values: {}'.format(exl_3s,round(0.0027*df.shape[0])))"
   ]
  },
  {
   "cell_type": "markdown",
   "metadata": {},
   "source": [
    "###  For Each Cell of KEY2\n",
    "Deviation of actual number of values outside of 3-sigma boundaries compared to the expected one for each cell. "
   ]
  },
  {
   "cell_type": "code",
   "execution_count": 8,
   "metadata": {},
   "outputs": [
    {
     "name": "stdout",
     "output_type": "stream",
     "text": [
      "Z3-score 1234512: \n",
      "\tactual #values: 0\n",
      "\ttarget #values: 0\n",
      "Z3-score 1345331: \n",
      "\tactual #values: 4\n",
      "\ttarget #values: 0\n",
      "Z3-score 4139991: \n",
      "\tactual #values: 0\n",
      "\ttarget #values: 0\n",
      "Z3-score 4543213: \n",
      "\tactual #values: 0\n",
      "\ttarget #values: 0\n",
      "Z3-score 7148927: \n",
      "\tactual #values: 0\n",
      "\ttarget #values: 0\n",
      "Z3-score 9874382: \n",
      "\tactual #values: 0\n",
      "\ttarget #values: 0\n"
     ]
    }
   ],
   "source": [
    "cells = df.CELLID.unique()\n",
    "for c in cells: \n",
    "    dfc = df.loc[df.CELLID == c]\n",
    "    exl_3s = df.loc[(df.CELLID == c) & ((df.KEY2 < mean2 - 3*std2) | (df.KEY2 > mean2 + 3*std2)),'KEY2'].count() \n",
    "    print('Z3-score {}: \\n\\tactual #values: {}\\n\\ttarget #values: {}'.format(c,exl_3s,round(0.0027*dfc.shape[0])))"
   ]
  },
  {
   "cell_type": "markdown",
   "metadata": {},
   "source": [
    "### Detailed look on the outliers\n",
    "For cells where the expected values deviate check the time dependency. "
   ]
  },
  {
   "cell_type": "code",
   "execution_count": 9,
   "metadata": {},
   "outputs": [
    {
     "data": {
      "text/html": [
       "<div>\n",
       "<style scoped>\n",
       "    .dataframe tbody tr th:only-of-type {\n",
       "        vertical-align: middle;\n",
       "    }\n",
       "\n",
       "    .dataframe tbody tr th {\n",
       "        vertical-align: top;\n",
       "    }\n",
       "\n",
       "    .dataframe thead th {\n",
       "        text-align: right;\n",
       "    }\n",
       "</style>\n",
       "<table border=\"1\" class=\"dataframe\">\n",
       "  <thead>\n",
       "    <tr style=\"text-align: right;\">\n",
       "      <th></th>\n",
       "      <th>DATE</th>\n",
       "      <th>CELLID</th>\n",
       "      <th>NOM_KEY1</th>\n",
       "      <th>KEY1</th>\n",
       "      <th>NOM_KEY2</th>\n",
       "      <th>KEY2</th>\n",
       "    </tr>\n",
       "  </thead>\n",
       "  <tbody>\n",
       "    <tr>\n",
       "      <th>157</th>\n",
       "      <td>2020-10-27</td>\n",
       "      <td>1345331</td>\n",
       "      <td>91.1</td>\n",
       "      <td>92.340991</td>\n",
       "      <td>190.7</td>\n",
       "      <td>325.372558</td>\n",
       "    </tr>\n",
       "    <tr>\n",
       "      <th>175</th>\n",
       "      <td>2020-10-30</td>\n",
       "      <td>1345331</td>\n",
       "      <td>103.9</td>\n",
       "      <td>100.060520</td>\n",
       "      <td>174.4</td>\n",
       "      <td>270.432120</td>\n",
       "    </tr>\n",
       "    <tr>\n",
       "      <th>355</th>\n",
       "      <td>2020-11-29</td>\n",
       "      <td>1345331</td>\n",
       "      <td>107.0</td>\n",
       "      <td>106.438773</td>\n",
       "      <td>218.1</td>\n",
       "      <td>275.933750</td>\n",
       "    </tr>\n",
       "    <tr>\n",
       "      <th>361</th>\n",
       "      <td>2020-11-30</td>\n",
       "      <td>1345331</td>\n",
       "      <td>87.9</td>\n",
       "      <td>89.773541</td>\n",
       "      <td>221.8</td>\n",
       "      <td>294.178045</td>\n",
       "    </tr>\n",
       "  </tbody>\n",
       "</table>\n",
       "</div>"
      ],
      "text/plain": [
       "           DATE   CELLID  NOM_KEY1        KEY1  NOM_KEY2        KEY2\n",
       "157  2020-10-27  1345331      91.1   92.340991     190.7  325.372558\n",
       "175  2020-10-30  1345331     103.9  100.060520     174.4  270.432120\n",
       "355  2020-11-29  1345331     107.0  106.438773     218.1  275.933750\n",
       "361  2020-11-30  1345331      87.9   89.773541     221.8  294.178045"
      ]
     },
     "metadata": {},
     "output_type": "display_data"
    }
   ],
   "source": [
    "c = 1345331\n",
    "dfc = df.loc[(df.CELLID == c) & ((df.KEY2 < mean2 - 3*std2) | (df.KEY2 > mean2 + 3*std2))]\n",
    "display(dfc)"
   ]
  },
  {
   "cell_type": "markdown",
   "metadata": {},
   "source": [
    "## Access Data on DI Data Lake"
   ]
  },
  {
   "cell_type": "code",
   "execution_count": null,
   "metadata": {},
   "outputs": [],
   "source": [
    "client = InsecureClient('http://datalake:50070')\n",
    "with client.read('/shared/Teched2020/performance.csv', encoding='utf-8') as reader:\n",
    "   df_p = pd.read_csv(reader)\n",
    "display(df_p)"
   ]
  }
 ],
 "metadata": {
  "kernelspec": {
   "display_name": "Python 3",
   "language": "python",
   "name": "python3"
  },
  "language_info": {
   "codemirror_mode": {
    "name": "ipython",
    "version": 3
   },
   "file_extension": ".py",
   "mimetype": "text/x-python",
   "name": "python",
   "nbconvert_exporter": "python",
   "pygments_lexer": "ipython3",
   "version": "3.7.3"
  }
 },
 "nbformat": 4,
 "nbformat_minor": 2
}
